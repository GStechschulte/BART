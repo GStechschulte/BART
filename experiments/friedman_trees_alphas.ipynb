{
 "cells": [
  {
   "cell_type": "code",
   "execution_count": null,
   "id": "e512c7f5",
   "metadata": {},
   "outputs": [],
   "source": [
    "import arviz as az\n",
    "import matplotlib.pyplot as plt\n",
    "import numpy as np\n",
    "import pandas as pd\n",
    "import pymc as pm"
   ]
  },
  {
   "cell_type": "code",
   "execution_count": null,
   "id": "9563fcdf",
   "metadata": {},
   "outputs": [],
   "source": [
    "az.style.use('arviz-white')\n",
    "%config Completer.use_jedi = False\n",
    "np.random.seed(1846)"
   ]
  },
  {
   "cell_type": "code",
   "execution_count": null,
   "id": "f33e7395",
   "metadata": {},
   "outputs": [],
   "source": [
    "X = np.random.uniform(low=0, high=1.0, size=(100, 10))\n",
    "f_x = 10*np.sin(np.pi*X[:,0]*X[:,1]) + 20*(X[:,2]-0.5)**2 + 10*X[:,3] + 5*X[:,4]\n",
    "Y = np.random.normal(f_x, 1)"
   ]
  },
  {
   "cell_type": "code",
   "execution_count": null,
   "id": "8f07bb20",
   "metadata": {},
   "outputs": [],
   "source": [
    "alphas = [0.1, 0.25, 0.5]\n",
    "idatas_at = {'10':{'0.1':{}, '0.25':{}, '0.5':{}},\n",
    "             '20':{'0.1':{}, '0.25':{}, '0.5':{}},\n",
    "             '50':{'0.1':{}, '0.25':{}, '0.5':{}},\n",
    "             '100':{'0.1':{}, '0.25':{}, '0.5':{}},\n",
    "             '200':{'0.1':{}, '0.25':{}, '0.5':{}}}\n",
    "trees = [10, 20, 50, 100, 200]\n",
    "\n",
    "for m in trees:\n",
    "    for alpha in alphas:\n",
    "        with pm.Model(rng_seeder=678) as model:\n",
    "            μ = pm.BART('μ', X, Y, m=m, alpha=alpha) \n",
    "            σ = pm.HalfNormal('σ', 1)\n",
    "            y = pm.Normal('y', μ, σ, observed=Y)\n",
    "            idata = pm.sample(chains=4, random_seed=678)\n",
    "            idatas_at[str(m)][str(alpha)] = idata"
   ]
  },
  {
   "cell_type": "code",
   "execution_count": null,
   "id": "7955461e",
   "metadata": {},
   "outputs": [],
   "source": [
    "fig, axes = plt.subplots(1, 5, figsize=(10, 3), sharey=True)\n",
    "\n",
    "axes = axes.ravel()\n",
    "\n",
    "for m, ax in zip(trees, axes):\n",
    "    means = [idatas_at[str(m)][str(alpha)]['posterior']['μ'].mean((\"chain\", \"draw\")) for alpha in alphas]\n",
    "    box = ax.boxplot(means, notch=True,\n",
    "                     patch_artist=True, widths=0.5,\n",
    "                     labels=alphas,\n",
    "                     medianprops=dict(color=\"k\"))\n",
    "    for patch, color in zip(box['boxes'], [\"C0\", \"C1\", \"C2\", \"C3\"]):\n",
    "        patch.set_facecolor(color)\n",
    "        ax.set_title(f'm = {m}')\n",
    "\n",
    "fig.supxlabel(fr'α', fontsize=16)\n",
    "fig.supylabel(fr'μ', fontsize=16,\n",
    "              rotation='horizontal')\n",
    "\n",
    "plt.savefig('boxplots-alphas.png',\n",
    "            dpi=300)"
   ]
  },
  {
   "cell_type": "code",
   "execution_count": null,
   "id": "65f2da35",
   "metadata": {},
   "outputs": [],
   "source": []
  }
 ],
 "metadata": {
  "kernelspec": {
   "display_name": "Python 3 (ipykernel)",
   "language": "python",
   "name": "python3"
  },
  "language_info": {
   "codemirror_mode": {
    "name": "ipython",
    "version": 3
   },
   "file_extension": ".py",
   "mimetype": "text/x-python",
   "name": "python",
   "nbconvert_exporter": "python",
   "pygments_lexer": "ipython3",
   "version": "3.8.10"
  }
 },
 "nbformat": 4,
 "nbformat_minor": 5
}
