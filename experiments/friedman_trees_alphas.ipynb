{
 "cells": [
  {
   "cell_type": "code",
   "execution_count": null,
   "id": "e512c7f5",
   "metadata": {},
   "outputs": [],
   "source": [
    "import arviz as az\n",
    "import matplotlib.pyplot as plt\n",
    "import numpy as np\n",
    "import pandas as pd\n",
    "import pymc as pm\n",
    "import seaborn as sns"
   ]
  },
  {
   "cell_type": "code",
   "execution_count": null,
   "id": "9563fcdf",
   "metadata": {},
   "outputs": [],
   "source": [
    "az.style.use('arviz-white')\n",
    "%config Completer.use_jedi = False\n",
    "np.random.seed(1846)"
   ]
  },
  {
   "cell_type": "code",
   "execution_count": null,
   "id": "f33e7395",
   "metadata": {},
   "outputs": [],
   "source": [
    "X = np.random.uniform(low=0, high=1.0, size=(100, 10))\n",
    "f_x = 10*np.sin(np.pi*X[:,0]*X[:,1]) + 20*(X[:,2]-0.5)**2 + 10*X[:,3] + 5*X[:,4]\n",
    "Y = np.random.normal(f_x, 1)"
   ]
  },
  {
   "cell_type": "code",
   "execution_count": null,
   "id": "8f07bb20",
   "metadata": {},
   "outputs": [],
   "source": [
    "alphas = [0.1, 0.25, 0.5]\n",
    "idatas_at = {'10':{'0.1':{}, '0.25':{}, '0.5':{}},\n",
    "             '20':{'0.1':{}, '0.25':{}, '0.5':{}},\n",
    "             '50':{'0.1':{}, '0.25':{}, '0.5':{}},\n",
    "             '100':{'0.1':{}, '0.25':{}, '0.5':{}},\n",
    "             '200':{'0.1':{}, '0.25':{}, '0.5':{}}}\n",
    "trees = [10, 20, 50, 100, 200]\n",
    "for m in trees:\n",
    "    for alpha in alphas:\n",
    "        with pm.Model(rng_seeder=678) as model:\n",
    "            μ = pm.BART('μ', X, Y, m=m, alpha=alpha) \n",
    "            σ = pm.HalfNormal('σ', 1)\n",
    "            y = pm.Normal('y', μ, σ, observed=Y)\n",
    "            idata = pm.sample(chains=4, random_seed=678)\n",
    "            idatas_at[str(m)][str(alpha)] = idata"
   ]
  },
  {
   "cell_type": "code",
   "execution_count": null,
   "id": "7955461e",
   "metadata": {},
   "outputs": [],
   "source": [
    "_, axes = plt.subplots(1, 5, figsize=(10, 3),sharey=True)\n",
    "\n",
    "for i, ax in enumerate(axes.ravel()):\n",
    "    m = trees[i]\n",
    "    tmp_df = pd.DataFrame()\n",
    "    for alpha in alphas:\n",
    "        tmp = idatas_at[str(m)][str(alpha)]['posterior']['μ'].stack(samples=[\"chain\",  \"draw\"])\n",
    "        mu_mean = np.mean(tmp, 1)\n",
    "        tmp_df[str(alpha)] = np.array(mu_mean)\n",
    "    if i == 0:\n",
    "        ax = sns.boxplot(data=tmp_df, ax=axes[i])\n",
    "        ax.set_title(f'm = {m}')\n",
    "        ax.set_ylabel(fr'$\\mu$', rotation='horizontal')\n",
    "        ax.set_xlabel(fr'$\\alpha$')\n",
    "    else:\n",
    "        ax = sns.boxplot(data=tmp_df, ax=axes[i])\n",
    "        ax.set_title(f'm = {m}')\n",
    "        ax.set_xlabel(fr'$\\alpha$')\n",
    "\n",
    "plt.savefig('boxplots-alphas.png')"
   ]
  },
  {
   "cell_type": "code",
   "execution_count": null,
   "id": "9663044a",
   "metadata": {},
   "outputs": [],
   "source": []
  }
 ],
 "metadata": {
  "kernelspec": {
   "display_name": "Python 3 (ipykernel)",
   "language": "python",
   "name": "python3"
  },
  "language_info": {
   "codemirror_mode": {
    "name": "ipython",
    "version": 3
   },
   "file_extension": ".py",
   "mimetype": "text/x-python",
   "name": "python",
   "nbconvert_exporter": "python",
   "pygments_lexer": "ipython3",
   "version": "3.7.7"
  }
 },
 "nbformat": 4,
 "nbformat_minor": 5
}
