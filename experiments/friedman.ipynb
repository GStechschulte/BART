{
 "cells": [
  {
   "cell_type": "markdown",
   "metadata": {},
   "source": [
    "# Approximation to Friedman's five dimension function"
   ]
  },
  {
   "cell_type": "code",
   "execution_count": null,
   "metadata": {},
   "outputs": [],
   "source": [
    "import pymc as pm\n",
    "import numpy as np\n",
    "import matplotlib.pyplot as plt\n",
    "import arviz as az"
   ]
  },
  {
   "cell_type": "code",
   "execution_count": null,
   "metadata": {},
   "outputs": [],
   "source": [
    "az.style.use('arviz-white')\n",
    "%config Completer.use_jedi = False\n",
    "np.random.seed(1846)"
   ]
  },
  {
   "cell_type": "markdown",
   "metadata": {},
   "source": [
    "## Data generation"
   ]
  },
  {
   "cell_type": "code",
   "execution_count": null,
   "metadata": {},
   "outputs": [],
   "source": [
    "X = np.random.uniform(low=0, high=1.0, size=(100, 1000))\n"
   ]
  },
  {
   "cell_type": "code",
   "execution_count": null,
   "metadata": {},
   "outputs": [],
   "source": [
    "f_x = 10*np.sin(np.pi*X[:,0]*X[:,1]) + 20*(X[:,2]-0.5)**2 + 10*X[:,3] + 5*X[:,4]\n",
    "Y = np.random.normal(f_x, 1)"
   ]
  },
  {
   "cell_type": "markdown",
   "metadata": {},
   "source": [
    "## Different number of variables  \n",
    "\n",
    "Using default options of BART and 4 chains."
   ]
  },
  {
   "cell_type": "code",
   "execution_count": null,
   "metadata": {},
   "outputs": [],
   "source": [
    "num_covariables = ['5', '10', '100', '1000']\n",
    "idatas = {}\n",
    "VIs = []\n",
    "for num_covariable in num_covariables:\n",
    "    with pm.Model(rng_seeder=678) as model:\n",
    "        μ = pm.BART('μ', X[:,:int(num_covariable)], Y, m=200,  alpha=0.25)\n",
    "        σ = pm.HalfNormal('σ', 1)\n",
    "        y = pm.Normal('y', mu=μ, sigma=σ, observed=Y)\n",
    "        idata = pm.sample(1000, tune=1000, chains=4, random_seed=678)\n",
    "        idatas[num_covariable] = idata\n",
    "        VI = idata.sample_stats[\"variable_inclusion\"].mean((\"chain\", \"draw\")).values\n",
    "        VIs.append(VI/VI.sum())"
   ]
  },
  {
   "cell_type": "code",
   "execution_count": null,
   "metadata": {},
   "outputs": [],
   "source": [
    "for num_covariable in num_covariables:\n",
    "    az.plot_trace(idatas[num_covariable]);\n",
    "#plt.savefig(\"friedman_traces.png\")"
   ]
  },
  {
   "cell_type": "code",
   "execution_count": null,
   "metadata": {},
   "outputs": [],
   "source": [
    "for num_covariable in num_covariables:\n",
    "    print(az.rhat(idatas[num_covariable]).mean().values())"
   ]
  },
  {
   "cell_type": "code",
   "execution_count": null,
   "metadata": {},
   "outputs": [],
   "source": [
    "fig, axes = plt.subplots(2, 2, sharex=True, sharey=True)\n",
    "\n",
    "for i, (name, ax) in enumerate(zip(num_covariables, axes.ravel())):\n",
    "    μs = idatas[name].posterior[\"μ\"].stack(samples=[\"chain\",  \"draw\"])\n",
    "    ax.set_title(f\"covariables={name}\")\n",
    "    ax.axline([0, 0], [1, 1], color=\"0.5\")\n",
    "    mean = μs.mean(\"samples\")\n",
    "    hdi = az.hdi(μs.T.values, hdi_prob=0.9)\n",
    "    yerr = np.vstack([mean - hdi[:,0], hdi[:,1] - mean])\n",
    "    ax.errorbar(f_x, mean, yerr,\n",
    "                linestyle='None', marker='.', alpha=0.5)\n",
    "\n",
    "    fig.text(0.42, 1.05, \"in-sample\", fontsize=16)\n",
    "    fig.text(0.42, -0.05, \"observed (f_x)\", fontsize=15)\n",
    "    fig.text(-0.05, 0.42, \"predicted (f_x)\", fontsize=15, rotation=90)\n",
    "    print((np.mean((f_x - mean)**2)**0.5).values)\n",
    "plt.savefig(\"friedman_covar_insample.png\")"
   ]
  },
  {
   "cell_type": "code",
   "execution_count": null,
   "metadata": {},
   "outputs": [],
   "source": [
    "for idx, (VI, num_covariable) in enumerate(zip(VIs, num_covariables)):\n",
    "    plt.plot(VI[:5], label=num_covariable, color=f\"C{idx}\")\n",
    "    plt.plot(5, np.mean(VI[5:]), \".\") \n",
    "plt.legend();\n",
    "plt.savefig(\"friedman_VI.png\")"
   ]
  },
  {
   "cell_type": "code",
   "execution_count": null,
   "metadata": {},
   "outputs": [],
   "source": [
    "for num_covariable in num_covariables[0]:\n",
    "    axes = pm.bart.plot_dependence(idatas[num_covariable], X, Y, \n",
    "                                   rug=False, var_idx=range(min(10, int(num_covariable))), grid=(2,5))\n",
    "    for ax in np.ravel(axes):\n",
    "        ax.set_ylim(5, 20)\n",
    "    plt.savefig(f\"pdp_friedman_200_{num_covariable}.png\")"
   ]
  }
 ],
 "metadata": {
  "interpreter": {
   "hash": "8ce584f7ba157355620cdc639ada134aa13e9e94a7cbff119b82c142acf47c36"
  },
  "kernelspec": {
   "display_name": "Python 3 (ipykernel)",
   "language": "python",
   "name": "python3"
  },
  "language_info": {
   "codemirror_mode": {
    "name": "ipython",
    "version": 3
   },
   "file_extension": ".py",
   "mimetype": "text/x-python",
   "name": "python",
   "nbconvert_exporter": "python",
   "pygments_lexer": "ipython3",
   "version": "3.8.12"
  }
 },
 "nbformat": 4,
 "nbformat_minor": 2
}
