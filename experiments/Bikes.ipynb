{
 "cells": [
  {
   "cell_type": "markdown",
   "id": "d68537ba",
   "metadata": {},
   "source": [
    "# Bikes\n",
    "\n",
    "\n",
    "This is similar to https://docs.pymc.io/projects/examples/en/latest/BART/BART_introduction.html"
   ]
  },
  {
   "cell_type": "code",
   "execution_count": null,
   "id": "7c087cca",
   "metadata": {},
   "outputs": [],
   "source": [
    "import arviz as az\n",
    "import matplotlib.pyplot as plt\n",
    "import numpy as np\n",
    "import pandas as pd\n",
    "import pymc as pm"
   ]
  },
  {
   "cell_type": "code",
   "execution_count": null,
   "id": "25cf7b45",
   "metadata": {},
   "outputs": [],
   "source": [
    "RANDOM_SEED = 8457\n",
    "rng = np.random.RandomState(RANDOM_SEED)\n",
    "az.style.use(\"arviz-darkgrid\")"
   ]
  },
  {
   "cell_type": "markdown",
   "id": "c7d04e15",
   "metadata": {},
   "source": [
    "## Biking with BART"
   ]
  },
  {
   "cell_type": "code",
   "execution_count": null,
   "id": "099f4c0e",
   "metadata": {},
   "outputs": [],
   "source": [
    "pd.read_csv(\"bikes.csv\")\n",
    "\n",
    "X = bikes[[\"hour\", \"temperature\", \"humidity\", \"windspeed\"]]\n",
    "Y = bikes[\"count\"]"
   ]
  },
  {
   "cell_type": "code",
   "execution_count": null,
   "id": "5f8410b2",
   "metadata": {},
   "outputs": [],
   "source": [
    "with pm.Model(rng_seeder=rng) as model_bikes:\n",
    "    σ = pm.HalfNormal(\"σ\", Y.std())\n",
    "    μ = pm.BART(\"μ\", X, Y, m=50)\n",
    "    y = pm.Normal(\"y\", μ, σ, observed=Y)\n",
    "    idata_bikes = pm.sample()"
   ]
  },
  {
   "cell_type": "markdown",
   "id": "5daefd3e",
   "metadata": {},
   "source": [
    "### Partial dependence plots"
   ]
  },
  {
   "cell_type": "code",
   "execution_count": null,
   "id": "9bb3955d-98d6-40b0-ab1c-10082459f72a",
   "metadata": {},
   "outputs": [],
   "source": [
    "pm.bart.plot_dependence(idata_bikes, X=X, Y=Y, grid=(2, 2), var_discrete=[3]);\n",
    "# plt.savefig(\"pdp_discrete.png\", bbox_inches='tight')"
   ]
  },
  {
   "cell_type": "markdown",
   "id": "54e31c66",
   "metadata": {},
   "source": [
    "### Variable importance"
   ]
  },
  {
   "cell_type": "code",
   "execution_count": null,
   "id": "2253e445",
   "metadata": {},
   "outputs": [],
   "source": [
    "_, ax = plt.subplots(1)\n",
    "VI = (\n",
    "    idata_bikes.sample_stats[\"variable_inclusion\"]\n",
    "    .stack(samples=(\"chain\", \"draw\"))\n",
    "    .mean(\"samples\")\n",
    "    .values\n",
    ")\n",
    "ax.plot(VI / VI.sum(), \"o-\")\n",
    "ax.set_xticks(range(4))\n",
    "ax.set_xticklabels([\"hour\", \"temperature\", \"humidity\", \"workingday\"])\n",
    "ax.set_ylabel(\"relative importance\");"
   ]
  }
 ],
 "metadata": {
  "kernelspec": {
   "display_name": "Python 3 (ipykernel)",
   "language": "python",
   "name": "python3"
  },
  "language_info": {
   "codemirror_mode": {
    "name": "ipython",
    "version": 3
   },
   "file_extension": ".py",
   "mimetype": "text/x-python",
   "name": "python",
   "nbconvert_exporter": "python",
   "pygments_lexer": "ipython3",
   "version": "3.8.12"
  }
 },
 "nbformat": 4,
 "nbformat_minor": 5
}
