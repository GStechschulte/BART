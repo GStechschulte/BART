{
 "cells": [
  {
   "cell_type": "code",
   "execution_count": null,
   "id": "58f98b85",
   "metadata": {},
   "outputs": [],
   "source": [
    "import pymc as pm\n",
    "import numpy as np\n",
    "import matplotlib.pyplot as plt\n",
    "import arviz as az\n",
    "%matplotlib inline"
   ]
  },
  {
   "cell_type": "code",
   "execution_count": null,
   "id": "07888d65",
   "metadata": {},
   "outputs": [],
   "source": [
    "az.style.use('arviz-white')\n",
    "%config Completer.use_jedi = False# Don't use the force?\n",
    "np.random.seed(1846)"
   ]
  },
  {
   "cell_type": "markdown",
   "id": "58748cbb",
   "metadata": {},
   "source": [
    "## Data generation"
   ]
  },
  {
   "cell_type": "code",
   "execution_count": null,
   "id": "2af4ece3",
   "metadata": {},
   "outputs": [],
   "source": [
    "X = np.random.uniform(low=0, high=1.0, size=(100, 1000))"
   ]
  },
  {
   "cell_type": "code",
   "execution_count": null,
   "id": "824f32ee",
   "metadata": {},
   "outputs": [],
   "source": [
    "f_x = 10*np.sin(np.pi*X[:,0]*X[:,1]) + 20*(X[:,2]-0.5)**2 + 10*X[:,3] + 5*X[:,4]\n",
    "Y = np.random.normal(f_x, 1)"
   ]
  },
  {
   "cell_type": "code",
   "execution_count": null,
   "id": "b067d413",
   "metadata": {},
   "outputs": [],
   "source": [
    "names_x = ['10', '20', '100', '1000']\n",
    "idatas_Xs = {}\n",
    "VIs_Xs = []"
   ]
  },
  {
   "cell_type": "code",
   "execution_count": null,
   "id": "c17c9e04",
   "metadata": {},
   "outputs": [],
   "source": [
    "idatas = {}\n",
    "trees = [10, 20, 50, 100, 200]\n",
    "VIs = []\n",
    "for m in trees:\n",
    "    with pm.Model(rng_seeder=678) as model:\n",
    "        μ = pm.BART('μ', X[:,:10], Y, m=m) \n",
    "        σ = pm.HalfNormal('σ', 1)\n",
    "        y = pm.Normal('y', μ, σ, observed=Y)\n",
    "        idata = pm.sample(chains=4, random_seed=678)\n",
    "        idatas[str(m)] = idata\n",
    "        # Variable importance\n",
    "        VI = idata.sample_stats[\"variable_inclusion\"].stack(samples=(\"chain\", \"draw\")).mean(\"samples\").values\n",
    "        VIs.append(VI / VI.sum())"
   ]
  },
  {
   "cell_type": "code",
   "execution_count": null,
   "id": "18e7a892",
   "metadata": {},
   "outputs": [],
   "source": [
    "for i in range(0, len(VIs)):\n",
    "    name = str(trees[i])\n",
    "    plt.plot(VIs[i],\n",
    "             label='trees = {}'.format(name),marker='o',linestyle='dashed')\n",
    "plt.axhline(1/X[:,:10].shape[1], ls=\"--\", color=\"k\")\n",
    "plt.legend();\n",
    "plt.savefig('var-importance.png')"
   ]
  },
  {
   "cell_type": "code",
   "execution_count": null,
   "id": "fa5ebe74",
   "metadata": {},
   "outputs": [],
   "source": []
  }
 ],
 "metadata": {
  "kernelspec": {
   "display_name": "Python 3 (ipykernel)",
   "language": "python",
   "name": "python3"
  },
  "language_info": {
   "codemirror_mode": {
    "name": "ipython",
    "version": 3
   },
   "file_extension": ".py",
   "mimetype": "text/x-python",
   "name": "python",
   "nbconvert_exporter": "python",
   "pygments_lexer": "ipython3",
   "version": "3.7.7"
  }
 },
 "nbformat": 4,
 "nbformat_minor": 5
}
